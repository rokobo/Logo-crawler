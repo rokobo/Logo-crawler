{
 "cells": [
  {
   "cell_type": "code",
   "execution_count": 2,
   "metadata": {},
   "outputs": [],
   "source": [
    "import pandas as pd\n",
    "from IPython.display import IFrame\n",
    "from main import Crawler\n"
   ]
  },
  {
   "cell_type": "code",
   "execution_count": 3,
   "metadata": {},
   "outputs": [
    {
     "data": {
      "text/plain": [
       "(1000, 1)"
      ]
     },
     "execution_count": 3,
     "metadata": {},
     "output_type": "execute_result"
    }
   ],
   "source": [
    "data = pd.read_csv(\"websites.csv\", header=None)\n",
    "data.columns = [\"url\"]\n",
    "data.shape\n"
   ]
  },
  {
   "cell_type": "code",
   "execution_count": 4,
   "metadata": {},
   "outputs": [
    {
     "name": "stdout",
     "output_type": "stream",
     "text": [
      "Site url: https://instagram.com\n",
      "Logo url: data:image/png;base64,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\n",
      "   Title: instagram\n",
      "crawler.times={'connect': 3.209, 'tags': 0.004, 'process': 0.004}\n"
     ]
    },
    {
     "data": {
      "text/html": [
       "<div>\n",
       "<style scoped>\n",
       "    .dataframe tbody tr th:only-of-type {\n",
       "        vertical-align: middle;\n",
       "    }\n",
       "\n",
       "    .dataframe tbody tr th {\n",
       "        vertical-align: top;\n",
       "    }\n",
       "\n",
       "    .dataframe thead th {\n",
       "        text-align: right;\n",
       "    }\n",
       "</style>\n",
       "<table border=\"1\" class=\"dataframe\">\n",
       "  <thead>\n",
       "    <tr style=\"text-align: right;\">\n",
       "      <th></th>\n",
       "      <th>website</th>\n",
       "      <th>ref</th>\n",
       "      <th>url</th>\n",
       "      <th>source</th>\n",
       "      <th>score</th>\n",
       "      <th>score2</th>\n",
       "    </tr>\n",
       "  </thead>\n",
       "  <tbody>\n",
       "    <tr>\n",
       "      <th>0</th>\n",
       "      <td>instagram.com</td>\n",
       "      <td></td>\n",
       "      <td>data:image/png;base64,ivborw0kggoaaaansuheugaa...</td>\n",
       "      <td>&lt;img&gt;</td>\n",
       "      <td>0</td>\n",
       "      <td>6400</td>\n",
       "    </tr>\n",
       "    <tr>\n",
       "      <th>1</th>\n",
       "      <td>instagram.com</td>\n",
       "      <td></td>\n",
       "      <td>data:image/png;base64,ivborw0kggoaaaansuheugaa...</td>\n",
       "      <td>&lt;img&gt;</td>\n",
       "      <td>0</td>\n",
       "      <td>2664</td>\n",
       "    </tr>\n",
       "    <tr>\n",
       "      <th>2</th>\n",
       "      <td>instagram.com</td>\n",
       "      <td></td>\n",
       "      <td>https://instagram.com/images/instagram/xig/hom...</td>\n",
       "      <td>&lt;img&gt;</td>\n",
       "      <td>0</td>\n",
       "      <td>1</td>\n",
       "    </tr>\n",
       "    <tr>\n",
       "      <th>3</th>\n",
       "      <td>instagram.com</td>\n",
       "      <td></td>\n",
       "      <td>https://instagram.com/images/instagram/xig/hom...</td>\n",
       "      <td>&lt;img&gt;</td>\n",
       "      <td>0</td>\n",
       "      <td>1</td>\n",
       "    </tr>\n",
       "    <tr>\n",
       "      <th>4</th>\n",
       "      <td>instagram.com</td>\n",
       "      <td></td>\n",
       "      <td>https://instagram.com/images/instagram/xig/hom...</td>\n",
       "      <td>&lt;img&gt;</td>\n",
       "      <td>0</td>\n",
       "      <td>1</td>\n",
       "    </tr>\n",
       "    <tr>\n",
       "      <th>5</th>\n",
       "      <td>instagram.com</td>\n",
       "      <td></td>\n",
       "      <td>https://instagram.com/images/instagram/xig/hom...</td>\n",
       "      <td>&lt;img&gt;</td>\n",
       "      <td>0</td>\n",
       "      <td>1</td>\n",
       "    </tr>\n",
       "    <tr>\n",
       "      <th>6</th>\n",
       "      <td>instagram.com</td>\n",
       "      <td>download on the app store</td>\n",
       "      <td>https://static.cdninstagram.com/rsrc.php/v3/yt...</td>\n",
       "      <td>&lt;img&gt;</td>\n",
       "      <td>0</td>\n",
       "      <td>1</td>\n",
       "    </tr>\n",
       "    <tr>\n",
       "      <th>7</th>\n",
       "      <td>instagram.com</td>\n",
       "      <td>get it on google play</td>\n",
       "      <td>https://static.cdninstagram.com/rsrc.php/v3/yz...</td>\n",
       "      <td>&lt;img&gt;</td>\n",
       "      <td>0</td>\n",
       "      <td>1</td>\n",
       "    </tr>\n",
       "    <tr>\n",
       "      <th>8</th>\n",
       "      <td>instagram.com</td>\n",
       "      <td>i</td>\n",
       "      <td>https://static.cdninstagram.com/rsrc.php/v3/yi...</td>\n",
       "      <td>&lt;link&gt;</td>\n",
       "      <td>-35</td>\n",
       "      <td>36864</td>\n",
       "    </tr>\n",
       "    <tr>\n",
       "      <th>9</th>\n",
       "      <td>instagram.com</td>\n",
       "      <td>a</td>\n",
       "      <td>https://static.cdninstagram.com/rsrc.php/v3/yg...</td>\n",
       "      <td>&lt;link&gt;</td>\n",
       "      <td>-35</td>\n",
       "      <td>32400</td>\n",
       "    </tr>\n",
       "    <tr>\n",
       "      <th>10</th>\n",
       "      <td>instagram.com</td>\n",
       "      <td>a</td>\n",
       "      <td>https://static.cdninstagram.com/rsrc.php/v3/yb...</td>\n",
       "      <td>&lt;link&gt;</td>\n",
       "      <td>-35</td>\n",
       "      <td>27889</td>\n",
       "    </tr>\n",
       "    <tr>\n",
       "      <th>11</th>\n",
       "      <td>instagram.com</td>\n",
       "      <td>a</td>\n",
       "      <td>https://static.cdninstagram.com/rsrc.php/v3/yx...</td>\n",
       "      <td>&lt;link&gt;</td>\n",
       "      <td>-35</td>\n",
       "      <td>23104</td>\n",
       "    </tr>\n",
       "    <tr>\n",
       "      <th>12</th>\n",
       "      <td>instagram.com</td>\n",
       "      <td>a</td>\n",
       "      <td>https://static.cdninstagram.com/rsrc.php/v3/ys...</td>\n",
       "      <td>&lt;link&gt;</td>\n",
       "      <td>-35</td>\n",
       "      <td>14400</td>\n",
       "    </tr>\n",
       "    <tr>\n",
       "      <th>13</th>\n",
       "      <td>instagram.com</td>\n",
       "      <td>a</td>\n",
       "      <td>https://static.cdninstagram.com/rsrc.php/v3/yr...</td>\n",
       "      <td>&lt;link&gt;</td>\n",
       "      <td>-35</td>\n",
       "      <td>5776</td>\n",
       "    </tr>\n",
       "    <tr>\n",
       "      <th>14</th>\n",
       "      <td>instagram.com</td>\n",
       "      <td>s</td>\n",
       "      <td>https://static.cdninstagram.com/rsrc.php/y4/r/...</td>\n",
       "      <td>&lt;link&gt;</td>\n",
       "      <td>-135</td>\n",
       "      <td>1</td>\n",
       "    </tr>\n",
       "  </tbody>\n",
       "</table>\n",
       "</div>"
      ],
      "text/plain": [
       "          website                        ref  \\\n",
       "0   instagram.com                              \n",
       "1   instagram.com                              \n",
       "2   instagram.com                              \n",
       "3   instagram.com                              \n",
       "4   instagram.com                              \n",
       "5   instagram.com                              \n",
       "6   instagram.com  download on the app store   \n",
       "7   instagram.com      get it on google play   \n",
       "8   instagram.com                          i   \n",
       "9   instagram.com                          a   \n",
       "10  instagram.com                          a   \n",
       "11  instagram.com                          a   \n",
       "12  instagram.com                          a   \n",
       "13  instagram.com                          a   \n",
       "14  instagram.com                          s   \n",
       "\n",
       "                                                  url  source  score  score2  \n",
       "0   data:image/png;base64,ivborw0kggoaaaansuheugaa...   <img>      0    6400  \n",
       "1   data:image/png;base64,ivborw0kggoaaaansuheugaa...   <img>      0    2664  \n",
       "2   https://instagram.com/images/instagram/xig/hom...   <img>      0       1  \n",
       "3   https://instagram.com/images/instagram/xig/hom...   <img>      0       1  \n",
       "4   https://instagram.com/images/instagram/xig/hom...   <img>      0       1  \n",
       "5   https://instagram.com/images/instagram/xig/hom...   <img>      0       1  \n",
       "6   https://static.cdninstagram.com/rsrc.php/v3/yt...   <img>      0       1  \n",
       "7   https://static.cdninstagram.com/rsrc.php/v3/yz...   <img>      0       1  \n",
       "8   https://static.cdninstagram.com/rsrc.php/v3/yi...  <link>    -35   36864  \n",
       "9   https://static.cdninstagram.com/rsrc.php/v3/yg...  <link>    -35   32400  \n",
       "10  https://static.cdninstagram.com/rsrc.php/v3/yb...  <link>    -35   27889  \n",
       "11  https://static.cdninstagram.com/rsrc.php/v3/yx...  <link>    -35   23104  \n",
       "12  https://static.cdninstagram.com/rsrc.php/v3/ys...  <link>    -35   14400  \n",
       "13  https://static.cdninstagram.com/rsrc.php/v3/yr...  <link>    -35    5776  \n",
       "14  https://static.cdninstagram.com/rsrc.php/y4/r/...  <link>   -135       1  "
      ]
     },
     "execution_count": 4,
     "metadata": {},
     "output_type": "execute_result"
    }
   ],
   "source": [
    "import random\n",
    "\n",
    "crawler = Crawler(True, True)\n",
    "site = data.loc[random.randint(0, 1000), \"url\"]\n",
    "print(f\"Site url: https://{site}\")\n",
    "result = crawler.crawl(site)\n",
    "if result is not None and (not result.empty):\n",
    "    logo_url = result.iloc[0,2]\n",
    "    print(\"Logo url:\", logo_url)\n",
    "else:\n",
    "    logo_url = None\n",
    "print(\"   Title:\", crawler.title)\n",
    "print(f\"{crawler.times=}\")\n",
    "result\n"
   ]
  },
  {
   "cell_type": "code",
   "execution_count": 5,
   "metadata": {},
   "outputs": [
    {
     "name": "stdout",
     "output_type": "stream",
     "text": [
      "added https://signupgenius.com sucessfully\n"
     ]
    }
   ],
   "source": [
    "cross = \"cross-validation.csv\"\n",
    "df = pd.read_csv(cross)\n",
    "if result is None:\n",
    "    chosen = None\n",
    "elif not result.empty:\n",
    "    chosen = result.iloc[0, 2]\n",
    "else:\n",
    "    chosen = None\n",
    "if site in df[\"site\"].to_list():\n",
    "    print(f\"site https://{site} already in csv\")\n",
    "else:\n",
    "    df = pd.concat([df, pd.DataFrame({'site': [site], \"url\": [chosen]})])\n",
    "    df = df.drop_duplicates(subset=[\"site\"])\n",
    "    df.to_csv(cross, index=False)\n",
    "    print(f\"added https://{site} sucessfully\")\n"
   ]
  },
  {
   "cell_type": "code",
   "execution_count": 14,
   "metadata": {},
   "outputs": [
    {
     "name": "stdout",
     "output_type": "stream",
     "text": [
      "https://dcdh7ea8gkhvt.cloudfront.net/wp-content/themes/indianic/assets/images/app-icon.png\n"
     ]
    },
    {
     "data": {
      "text/html": [
       "\n",
       "        <iframe\n",
       "            width=\"800\"\n",
       "            height=\"400\"\n",
       "            src=\"https://dcdh7ea8gkhvt.cloudfront.net/wp-content/themes/indianic/assets/images/app-icon.png\"\n",
       "            frameborder=\"0\"\n",
       "            allowfullscreen\n",
       "            \n",
       "        ></iframe>\n",
       "        "
      ],
      "text/plain": [
       "<IPython.lib.display.IFrame at 0x7f9d92a28dd0>"
      ]
     },
     "execution_count": 14,
     "metadata": {},
     "output_type": "execute_result"
    }
   ],
   "source": [
    "test_logo = result.iloc[33, 2]\n",
    "print(test_logo)\n",
    "IFrame(test_logo, 800, 400)\n"
   ]
  }
 ],
 "metadata": {
  "kernelspec": {
   "display_name": "Python 3",
   "language": "python",
   "name": "python3"
  },
  "language_info": {
   "codemirror_mode": {
    "name": "ipython",
    "version": 3
   },
   "file_extension": ".py",
   "mimetype": "text/x-python",
   "name": "python",
   "nbconvert_exporter": "python",
   "pygments_lexer": "ipython3",
   "version": "3.11.5"
  }
 },
 "nbformat": 4,
 "nbformat_minor": 2
}
