{
 "cells": [
  {
   "cell_type": "code",
   "execution_count": 1,
   "metadata": {},
   "outputs": [],
   "source": [
    "from concurrent.futures import ThreadPoolExecutor\n",
    "import pandas as pd\n",
    "from main import process_url\n"
   ]
  },
  {
   "cell_type": "code",
   "execution_count": 2,
   "metadata": {},
   "outputs": [
    {
     "data": {
      "text/plain": [
       "83"
      ]
     },
     "execution_count": 2,
     "metadata": {},
     "output_type": "execute_result"
    }
   ],
   "source": [
    "cross = \"cross-validation.csv\"\n",
    "df = pd.read_csv(cross)\n",
    "domains = df.loc[:, 'site'].to_list()\n",
    "urls = df.loc[:, 'url'].to_list()\n",
    "len(domains)"
   ]
  },
  {
   "cell_type": "code",
   "execution_count": 3,
   "metadata": {},
   "outputs": [],
   "source": [
    "with ThreadPoolExecutor(max_workers=8) as executor:\n",
    "    results = []\n",
    "    for future in executor.map(process_url, domains):\n",
    "        results.append(future)"
   ]
  },
  {
   "cell_type": "code",
   "execution_count": 16,
   "metadata": {},
   "outputs": [
    {
     "name": "stdout",
     "output_type": "stream",
     "text": [
      "18 83 (None, 'onstar.com')\n",
      "72 83 (None, 'telus.net')\n",
      "73 83 (None, 'nokia.com')\n",
      "75 83 (None, 'greatcall.com')\n"
     ]
    }
   ],
   "source": [
    "for i, j in enumerate(zip(results, domains)):\n",
    "    if j[0] is None:\n",
    "        print(i, len(results), j)"
   ]
  },
  {
   "cell_type": "code",
   "execution_count": 17,
   "metadata": {},
   "outputs": [],
   "source": [
    "cMatrix = {'TP': 0, 'FP': 0, 'TN': 0, 'FN': 0}\n",
    "FN = []\n",
    "FP = []\n",
    "for result, url, domain in zip(results, urls, domains):\n",
    "    if result is not None:\n",
    "        if result == url:\n",
    "            cMatrix[\"TP\"] += 1\n",
    "        else:\n",
    "            cMatrix[\"FP\"] += 1\n",
    "            FP.append((result, url, domain))\n",
    "    else:\n",
    "        if pd.isna(url):\n",
    "            cMatrix[\"TN\"] += 1\n",
    "        else:\n",
    "            cMatrix[\"FN\"] += 1\n",
    "            FN.append((result, url, domain))\n"
   ]
  },
  {
   "cell_type": "code",
   "execution_count": 27,
   "metadata": {},
   "outputs": [
    {
     "name": "stdout",
     "output_type": "stream",
     "text": [
      "Confusion matrix: {'TP': 65, 'FP': 14, 'TN': 3, 'FN': 1} \n",
      "\n",
      "Precision=0.82\n",
      "Recall=0.98\n",
      "F1=0.90\n",
      "Accuracy=0.82\n",
      "Specificity=0.18 (lower is better)\n",
      "NPV=0.75 (lower is better)\n"
     ]
    }
   ],
   "source": [
    "Precision = cMatrix['TP'] / (cMatrix['TP'] + cMatrix['FP'])\n",
    "Recall = cMatrix['TP'] / (cMatrix['TP'] + cMatrix['FN'])\n",
    "F1 = 2 * ((Precision * Recall) / (Precision + Recall))\n",
    "Accuracy = (cMatrix['TP'] + cMatrix['TN']) / (\n",
    "    cMatrix['TP'] + cMatrix['FP'] + cMatrix['TN'] + cMatrix['FN'])\n",
    "Specificity = cMatrix['TN'] / (cMatrix['TN'] + cMatrix['FP'])\n",
    "NPV = cMatrix['TN'] / (cMatrix['TN'] + cMatrix['FN'])\n",
    "print(\"Confusion matrix:\", cMatrix, \"\\n\")\n",
    "print(f\"{Precision=:.2f}\")\n",
    "print(f\"{Recall=:.2f}\")\n",
    "print(f\"{F1=:.2f}\")\n",
    "print(f\"{Accuracy=:.2f}\")\n",
    "if cMatrix['TN'] != 0:\n",
    "    print(f\"{Specificity=:.2f} (lower is better)\")\n",
    "    print(f\"{NPV=:.2f} (lower is better)\")\n"
   ]
  },
  {
   "cell_type": "code",
   "execution_count": 28,
   "metadata": {},
   "outputs": [
    {
     "name": "stdout",
     "output_type": "stream",
     "text": [
      "Got: None\n",
      "Cor: https://onstar.com/content/dam/onstar/na/us/en/navigation/01-images/os-header-logo-shared.svg\n",
      "onstar.com FN\n",
      "\n",
      "Got: https://superb.net/images2/main/4_accountrap-v1.png\n",
      "Cor: https://superb.net/images2/main/logo.png\n",
      "superb.net FP\n",
      "\n",
      "Got: https://images.ctfassets.net/00i767ygo3tc/3nin3tyngzyx5yylb5hl8z/110981e92c9d86eae0a773356e6333e9/small-business-owner-using-a-free-video-maker-to-capture-attention-and-engage-audiences.webp?w=460&h=430&q=80\n",
      "Cor: https://animoto.com/icons/icon-512x512.png?v=f7bad0df2a4af8688773dca5ee0b1ed6\n",
      "animoto.com FP\n",
      "\n",
      "Got: https://vanilla.futurecdn.net/cyclingnews/media/img/missing-image.svg\n",
      "Cor: https://vanilla.futurecdn.net/toptenreviews/media/img/missing-image.svg\n",
      "toptenreviews.com FP\n",
      "\n",
      "Got: https://media-cldnry.s-nbcnews.com/image/upload/w_10000,h_74,q_80,c_fit,f_auto,q_auto:best/rockcms/2022-10/today-menu-2022-431ed9.png\n",
      "Cor: https://cdn.cookielaw.org/logos/17e5cb00-ad90-47f5-a58d-77597d9d2c16/d44e374b-e570-4884-9441-33c0ccae5431/959d0f3c-d044-46db-bc43-cbca0284a92d/nbcu_logo.png\n",
      "ivillage.com FP\n",
      "\n",
      "Got: https://starhub.com/content/dam/starhub/2023/personal/gamehub/mobileplay/tile-mobile-play-v2.jpg\n",
      "Cor: https://starhub.com/etc/designs/starhub/clientlibs/revamp/img/sh-logo.svg\n",
      "starhub.com FP\n",
      "\n",
      "Got: https://ugr.es/sites/default/files/comunicados-oficiales/banner-infougr.png\n",
      "Cor: https://ugr.es/themes/custom/ugr/logo-footer.svg\n",
      "ugr.es FP\n",
      "\n",
      "Got: https://fiksu.com/fiksu_files/fiksu-logo-white.png\n",
      "Cor: https://fiksu.comfiksu_files/fiksu-logo-white.png\n",
      "fiksu.com FP\n",
      "\n",
      "Got: https://rs.trumpia.com/images/main/svg_features_list06.png\n",
      "Cor: https://rs.trumpia.com/images/common/main_logo.svg\n",
      "trumpia.com FP\n",
      "\n",
      "Got: https://telekom.com/resource/image/1055468/landscape_ratio16x9/768/432/1681b62a075967b906e3c6f8b9b72383/3d389628f5da6fb547f9e46d440aaeb2/bi-231213-th-weihnachtsvideo.jpg\n",
      "Cor: https://telekom.com/resource/crblob/1021450/93333a9e7b5155e1f2a46d92d11394f1/favicon-svg-data.svg\n",
      "telekom.com FP\n",
      "\n",
      "Got: https://ad.doubleclick.net/favicon.ico?ad=300x250&ad_box_=1&adnet=1&showad=1&size=250x250\n",
      "Cor: https://cdn.cookielaw.org/logos/static/ot_company_logo.png\n",
      "thrillist.com FP\n",
      "\n",
      "Got: data:image/svg+xml,<svg width=\"500\" height=\"556\" xmlns=\"http://www.w3.org/2000/svg\"/>\n",
      "Cor: https://izea.com/assets/appicons/icon-192x192-82050cd1a1efa6ce001d49107b3ecd4c01e43a1fab2f35f43d0a86e345fca902.png\n",
      "izea.com FP\n",
      "\n",
      "Got: data:image/png;base64,ivborw0kggoaaaansuheugaaadqaaaa0camaaadypuvzaaaanlbmveuaaaaxmtewmdaxmtexmtewmdawmdawmdaxmtexmtexmtewmdawmdaxmtexmtewmdawmdaxmthb9n+uaaaaexrstlma3zdvfybaejc/n3bqz69gx7vmkcmaaagysurbvejhnzzbfomgdeqjidzvuv/ntgbtfguq4/zukpemiqbuhxske5l1xsn4pfwhrm/wsht1hrlwc01lgxfevkcc30eyklj1sjk9pvkw690vy6k8dwp9om9ymg0koi+mi8xa36nxmw0uxra4ej3iwhfrfxvlgl0nqqgbhdqfeqhmmyj48wdukp81h3+smperkkjcsxiluk4xthcjesonz1vuxqoc6lgi2x4ci5atq201mt8whysi5fc05m5c81uzethcmkhxz7iyety1gfhlvgkpm+eykdgxm1f5axmcb93dooribxfdn7f+hlfuyxtdp+sxtbnf43ciywazawrgzxioixemesoplmhwlrdxek772cazxedbrv7cmnovbp0oslygidezjtfq5hhcsa5388osgm6b5p+qjpzrblms9xj4awxmz108uku1iomm3ceiw0cdwhcqp1njaqxlfrbga+xuloqj+tuyfbibpnpqnmxqt7dpaonzqbfhsbctejaxwj58zlk2xgg+spgym6dro6wczsnixxweexrao+uycuhbop7cgq+kxsufntlqfc+po29vvy7jj4y0yaaaaabjru5erkjggg==\n",
      "Cor: nan\n",
      "voipsupply.com FP\n",
      "\n",
      "Got: https://360cities.net/images/home-page-01/map-static.jpg\n",
      "Cor: nan\n",
      "360cities.net FP\n",
      "\n",
      "Got: https://www.sangoma.com/wp-content/uploads/gartner-mq-logo.svg\n",
      "Cor: https://www.sangoma.com/wp-content/uploads/sangoma-fav-icon-32x32-1.svg\n",
      "digium.com FP\n",
      "\n"
     ]
    }
   ],
   "source": [
    "for result, url, domain in FN:\n",
    "    print(\"Got:\", result)\n",
    "    print(\"Cor:\", url)\n",
    "    print(domain, \"FN\")\n",
    "    print()\n",
    "for result, url, domain in FP:\n",
    "    print(\"Got:\", result)\n",
    "    print(\"Cor:\", url)\n",
    "    print(domain, \"FP\")\n",
    "    print()\n"
   ]
  }
 ],
 "metadata": {
  "kernelspec": {
   "display_name": "tensorflow",
   "language": "python",
   "name": "python3"
  },
  "language_info": {
   "codemirror_mode": {
    "name": "ipython",
    "version": 3
   },
   "file_extension": ".py",
   "mimetype": "text/x-python",
   "name": "python",
   "nbconvert_exporter": "python",
   "pygments_lexer": "ipython3",
   "version": "3.11.5"
  }
 },
 "nbformat": 4,
 "nbformat_minor": 2
}
