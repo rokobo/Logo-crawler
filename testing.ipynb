{
 "cells": [
  {
   "cell_type": "code",
   "execution_count": 1,
   "metadata": {},
   "outputs": [],
   "source": [
    "import pandas as pd\n",
    "from IPython.display import IFrame\n",
    "from main import Crawler\n"
   ]
  },
  {
   "cell_type": "code",
   "execution_count": 8,
   "metadata": {},
   "outputs": [
    {
     "data": {
      "text/plain": [
       "(1000, 1)"
      ]
     },
     "execution_count": 8,
     "metadata": {},
     "output_type": "execute_result"
    }
   ],
   "source": [
    "data = pd.read_csv(\"websites.csv\", header=None)\n",
    "data.columns = [\"url\"]\n",
    "data.shape\n"
   ]
  },
  {
   "cell_type": "code",
   "execution_count": 9,
   "metadata": {},
   "outputs": [
    {
     "name": "stdout",
     "output_type": "stream",
     "text": [
      "Site url: https://mxtoolbox.com\n",
      "Logo url: https://telestial.com/images/layout/logo.svg\n",
      "   Title: mx lookup tool - check your dns mx records online - mxtoolbox\n",
      "crawler.times={'connect': 2.284, 'tags': 0.007, 'process': 0.002, 'is_alive': 0.246}\n"
     ]
    },
    {
     "data": {
      "text/html": [
       "<div>\n",
       "<style scoped>\n",
       "    .dataframe tbody tr th:only-of-type {\n",
       "        vertical-align: middle;\n",
       "    }\n",
       "\n",
       "    .dataframe tbody tr th {\n",
       "        vertical-align: top;\n",
       "    }\n",
       "\n",
       "    .dataframe thead th {\n",
       "        text-align: right;\n",
       "    }\n",
       "</style>\n",
       "<table border=\"1\" class=\"dataframe\">\n",
       "  <thead>\n",
       "    <tr style=\"text-align: right;\">\n",
       "      <th></th>\n",
       "      <th>website</th>\n",
       "      <th>ref</th>\n",
       "      <th>url</th>\n",
       "      <th>source</th>\n",
       "      <th>score</th>\n",
       "      <th>score2</th>\n",
       "    </tr>\n",
       "  </thead>\n",
       "  <tbody>\n",
       "    <tr>\n",
       "      <th>0</th>\n",
       "      <td>mxtoolbox.com</td>\n",
       "      <td>icon</td>\n",
       "      <td>https://mxtoolbox.com/public/favicon/mx-logo-i...</td>\n",
       "      <td>&lt;link&gt;</td>\n",
       "      <td>25</td>\n",
       "      <td>1</td>\n",
       "    </tr>\n",
       "    <tr>\n",
       "      <th>1</th>\n",
       "      <td>mxtoolbox.com</td>\n",
       "      <td>mx icon</td>\n",
       "      <td>https://images.mxtoolbox.com/public/images/too...</td>\n",
       "      <td>&lt;img&gt;</td>\n",
       "      <td>20</td>\n",
       "      <td>1</td>\n",
       "    </tr>\n",
       "    <tr>\n",
       "      <th>2</th>\n",
       "      <td>mxtoolbox.com</td>\n",
       "      <td>Free Feature Badge</td>\n",
       "      <td>https://images.mxtoolbox.com/productinfo/media...</td>\n",
       "      <td>&lt;img&gt;</td>\n",
       "      <td>15</td>\n",
       "      <td>1</td>\n",
       "    </tr>\n",
       "    <tr>\n",
       "      <th>3</th>\n",
       "      <td>mxtoolbox.com</td>\n",
       "      <td>None</td>\n",
       "      <td>https://images.mxtoolbox.com/productinfo/media...</td>\n",
       "      <td>&lt;img&gt;</td>\n",
       "      <td>5</td>\n",
       "      <td>1</td>\n",
       "    </tr>\n",
       "    <tr>\n",
       "      <th>4</th>\n",
       "      <td>mxtoolbox.com</td>\n",
       "      <td>None</td>\n",
       "      <td>https://images.mxtoolbox.com/productinfo/media...</td>\n",
       "      <td>&lt;img&gt;</td>\n",
       "      <td>5</td>\n",
       "      <td>1</td>\n",
       "    </tr>\n",
       "    <tr>\n",
       "      <th>5</th>\n",
       "      <td>mxtoolbox.com</td>\n",
       "      <td>apple-touch-icon</td>\n",
       "      <td>https://mxtoolbox.com/public/favicon/apple-tou...</td>\n",
       "      <td>&lt;link&gt;</td>\n",
       "      <td>5</td>\n",
       "      <td>1</td>\n",
       "    </tr>\n",
       "  </tbody>\n",
       "</table>\n",
       "</div>"
      ],
      "text/plain": [
       "         website                 ref  \\\n",
       "0  mxtoolbox.com                icon   \n",
       "1  mxtoolbox.com             mx icon   \n",
       "2  mxtoolbox.com  Free Feature Badge   \n",
       "3  mxtoolbox.com                None   \n",
       "4  mxtoolbox.com                None   \n",
       "5  mxtoolbox.com    apple-touch-icon   \n",
       "\n",
       "                                                 url  source  score  score2  \n",
       "0  https://mxtoolbox.com/public/favicon/mx-logo-i...  <link>     25       1  \n",
       "1  https://images.mxtoolbox.com/public/images/too...   <img>     20       1  \n",
       "2  https://images.mxtoolbox.com/productinfo/media...   <img>     15       1  \n",
       "3  https://images.mxtoolbox.com/productinfo/media...   <img>      5       1  \n",
       "4  https://images.mxtoolbox.com/productinfo/media...   <img>      5       1  \n",
       "5  https://mxtoolbox.com/public/favicon/apple-tou...  <link>      5       1  "
      ]
     },
     "execution_count": 9,
     "metadata": {},
     "output_type": "execute_result"
    }
   ],
   "source": [
    "import random\n",
    "\n",
    "crawler = Crawler(True, True)\n",
    "site = data.loc[random.randint(0, 1000), \"url\"]\n",
    "print(f\"Site url: https://{site}\")\n",
    "result = crawler.crawl(site)\n",
    "if result is not None and (not result.empty):\n",
    "    logo_url = d.iloc[0,2]\n",
    "    print(\"Logo url:\", logo_url)\n",
    "else:\n",
    "    logo_url = None\n",
    "print(\"   Title:\", crawler.title)\n",
    "print(f\"{crawler.times=}\")\n",
    "result\n"
   ]
  },
  {
   "cell_type": "code",
   "execution_count": 15,
   "metadata": {},
   "outputs": [
    {
     "name": "stdout",
     "output_type": "stream",
     "text": [
      "added https://mxtoolbox.com sucessfully\n"
     ]
    }
   ],
   "source": [
    "cross = \"cross-validation.csv\"\n",
    "df = pd.read_csv(cross)\n",
    "if result is None:\n",
    "    chosen = None\n",
    "elif not result.empty:\n",
    "    chosen = result.iloc[0, 2]\n",
    "else:\n",
    "    chosen = None\n",
    "if site in df[\"site\"].to_list():\n",
    "    print(f\"site https://{site} already in csv\")\n",
    "else:\n",
    "    df = pd.concat([df, pd.DataFrame({'site': [site], \"url\": [chosen]})])\n",
    "    df = df.drop_duplicates(subset=[\"site\"])\n",
    "    df.to_csv(cross, index=False)\n",
    "    print(f\"added https://{site} sucessfully\")\n"
   ]
  },
  {
   "cell_type": "code",
   "execution_count": 14,
   "metadata": {},
   "outputs": [
    {
     "name": "stdout",
     "output_type": "stream",
     "text": [
      "https://mxtoolbox.com/public/favicon/mx-logo-icon.svg\n"
     ]
    },
    {
     "data": {
      "text/html": [
       "\n",
       "        <iframe\n",
       "            width=\"800\"\n",
       "            height=\"400\"\n",
       "            src=\"https://mxtoolbox.com/public/favicon/mx-logo-icon.svg\"\n",
       "            frameborder=\"0\"\n",
       "            allowfullscreen\n",
       "            \n",
       "        ></iframe>\n",
       "        "
      ],
      "text/plain": [
       "<IPython.lib.display.IFrame at 0x7f3d3d1260d0>"
      ]
     },
     "execution_count": 14,
     "metadata": {},
     "output_type": "execute_result"
    }
   ],
   "source": [
    "test_logo = result.iloc[0, 2]\n",
    "print(test_logo)\n",
    "IFrame(test_logo, 800, 400)\n"
   ]
  }
 ],
 "metadata": {
  "kernelspec": {
   "display_name": "Python 3",
   "language": "python",
   "name": "python3"
  },
  "language_info": {
   "codemirror_mode": {
    "name": "ipython",
    "version": 3
   },
   "file_extension": ".py",
   "mimetype": "text/x-python",
   "name": "python",
   "nbconvert_exporter": "python",
   "pygments_lexer": "ipython3",
   "version": "3.11.5"
  }
 },
 "nbformat": 4,
 "nbformat_minor": 2
}
