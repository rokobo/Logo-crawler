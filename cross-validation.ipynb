{
 "cells": [
  {
   "cell_type": "code",
   "execution_count": 1,
   "metadata": {},
   "outputs": [],
   "source": [
    "from concurrent.futures import ThreadPoolExecutor\n",
    "import pandas as pd\n",
    "from main import process_url\n"
   ]
  },
  {
   "cell_type": "code",
   "execution_count": 2,
   "metadata": {},
   "outputs": [
    {
     "data": {
      "text/plain": [
       "83"
      ]
     },
     "execution_count": 2,
     "metadata": {},
     "output_type": "execute_result"
    }
   ],
   "source": [
    "cross = \"cross-validation.csv\"\n",
    "df = pd.read_csv(cross)\n",
    "domains = df.loc[:, 'site'].to_list()\n",
    "urls = df.loc[:, 'url'].to_list()\n",
    "len(domains)"
   ]
  },
  {
   "cell_type": "code",
   "execution_count": 4,
   "metadata": {},
   "outputs": [],
   "source": [
    "with ThreadPoolExecutor(max_workers=10) as executor:\n",
    "    results = []\n",
    "    for future in executor.map(process_url, domains):\n",
    "        results.append(future)"
   ]
  },
  {
   "cell_type": "code",
   "execution_count": 5,
   "metadata": {},
   "outputs": [
    {
     "name": "stdout",
     "output_type": "stream",
     "text": [
      "2 83 (None, 'xcomglobal.com')\n",
      "12 83 (None, 'toptenreviews.com')\n",
      "14 83 (None, 'ivillage.com')\n",
      "15 83 (None, 'toucharcade.com')\n",
      "18 83 (None, 'onstar.com')\n",
      "24 83 (None, 'ugr.es')\n",
      "31 83 (None, 'xo.com')\n",
      "33 83 (None, 'uol.com.br')\n",
      "49 83 (None, 'thrillist.com')\n",
      "57 83 (None, 'entireweb.com')\n",
      "72 83 (None, 'telus.net')\n",
      "73 83 (None, 'nokia.com')\n",
      "75 83 (None, 'greatcall.com')\n"
     ]
    }
   ],
   "source": [
    "for i, j in enumerate(zip(results, domains)):\n",
    "    if j[0] is None:\n",
    "        print(i, len(results), j)"
   ]
  },
  {
   "cell_type": "code",
   "execution_count": 6,
   "metadata": {},
   "outputs": [],
   "source": [
    "cMatrix = {'TP': 0, 'FP': 0, 'TN': 0, 'FN': 0}\n",
    "FN = []\n",
    "FP = []\n",
    "for result, url, domain in zip(results, urls, domains):\n",
    "    if result is not None:\n",
    "        if result == url:\n",
    "            cMatrix[\"TP\"] += 1\n",
    "        else:\n",
    "            cMatrix[\"FP\"] += 1\n",
    "            FP.append((result, url, domain))\n",
    "    else:\n",
    "        if pd.isna(url):\n",
    "            cMatrix[\"TN\"] += 1\n",
    "        else:\n",
    "            cMatrix[\"FN\"] += 1\n",
    "            FN.append((result, url, domain))\n"
   ]
  },
  {
   "cell_type": "code",
   "execution_count": 7,
   "metadata": {},
   "outputs": [
    {
     "name": "stdout",
     "output_type": "stream",
     "text": [
      "Confusion matrix: {'TP': 51, 'FP': 19, 'TN': 4, 'FN': 9} \n",
      "\n",
      "Precision=0.73\n",
      "Recall=0.85\n",
      "F1=0.78\n",
      "Accuracy=0.66\n",
      "Specificity=0.17\n",
      "NPV=0.31\n",
      "Balanced_accuracy=0.51\n"
     ]
    }
   ],
   "source": [
    "Precision = cMatrix['TP'] / (cMatrix['TP'] + cMatrix['FP'])\n",
    "Recall = cMatrix['TP'] / (cMatrix['TP'] + cMatrix['FN'])\n",
    "F1 = 2 * ((Precision * Recall) / (Precision + Recall))\n",
    "Accuracy = (cMatrix['TP'] + cMatrix['TN']) / (\n",
    "    cMatrix['TP'] + cMatrix['FP'] + cMatrix['TN'] + cMatrix['FN'])\n",
    "Specificity = cMatrix['TN'] / (cMatrix['TN'] + cMatrix['FP'])\n",
    "NPV = cMatrix['TN'] / (cMatrix['TN'] + cMatrix['FN'])\n",
    "Balanced_accuracy = (Recall + Specificity) / 2\n",
    "print(\"Confusion matrix:\", cMatrix, \"\\n\")\n",
    "print(f\"{Precision=:.2f}\")\n",
    "print(f\"{Recall=:.2f}\")\n",
    "print(f\"{F1=:.2f}\")\n",
    "print(f\"{Accuracy=:.2f}\")\n",
    "if cMatrix['TN'] != 0:\n",
    "    print(f\"{Specificity=:.2f}\")\n",
    "    print(f\"{NPV=:.2f}\")\n",
    "    print(f\"{Balanced_accuracy=:.2f}\")\n"
   ]
  },
  {
   "cell_type": "code",
   "execution_count": 8,
   "metadata": {},
   "outputs": [
    {
     "name": "stdout",
     "output_type": "stream",
     "text": [
      "Got: None\n",
      "Cor: https://xcomglobal.com/_layout/images/header_logo.svg\n",
      "xcomglobal.com FN\n",
      "\n",
      "Got: None\n",
      "Cor: https://vanilla.futurecdn.net/toptenreviews/media/img/missing-image.svg\n",
      "toptenreviews.com FN\n",
      "\n",
      "Got: None\n",
      "Cor: https://cdn.cookielaw.org/logos/17e5cb00-ad90-47f5-a58d-77597d9d2c16/d44e374b-e570-4884-9441-33c0ccae5431/959d0f3c-d044-46db-bc43-cbca0284a92d/nbcu_logo.png\n",
      "ivillage.com FN\n",
      "\n",
      "Got: None\n",
      "Cor: https://toucharcade.com/apple-touch-icon-180x180.png\n",
      "toucharcade.com FN\n",
      "\n",
      "Got: None\n",
      "Cor: https://onstar.com/content/dam/onstar/na/us/en/navigation/01-images/os-header-logo-shared.svg\n",
      "onstar.com FN\n",
      "\n",
      "Got: None\n",
      "Cor: https://ugr.es/themes/custom/ugr/logo-footer.svg\n",
      "ugr.es FN\n",
      "\n",
      "Got: None\n",
      "Cor: data:image/svg+xml;utf8,<svg xmlns='http://www.w3.org/2000/svg' width='144' height='144' viewbox='0 0 144 144'><circle cx='72' cy='72' r='72' fill='%23000'/><path d='m37 72.46h50.26l63.51 100.82l96.65 30h110l70.14 115h56.89l37 72.46z' fill='%23e00'/></svg>\n",
      "xo.com FN\n",
      "\n",
      "Got: None\n",
      "Cor: https://conteudo.imguol.com.br/c/home/layout/vueland/icons/brand/uol-logo-full.svg?v7\n",
      "uol.com.br FN\n",
      "\n",
      "Got: None\n",
      "Cor: https://cdn.cookielaw.org/logos/static/ot_company_logo.png\n",
      "thrillist.com FN\n",
      "\n",
      "Got: https://djrufvackyewl.cloudfront.net/s3/design2018/logo.png\n",
      "Cor: https://djrufvackyewl.cloudfront.net/s3/design2018/main-logo.png\n",
      "luxsci.com FP\n",
      "\n",
      "Got: https://superb.net/images2/main/4_accountrap-v1.png\n",
      "Cor: https://superb.net/images2/main/logo.png\n",
      "superb.net FP\n",
      "\n",
      "Got: https://cdn.cookielaw.org/logos/static/powered_by_logo.svg\n",
      "Cor: https://siteground.com/img/apple-touch-icon.png\n",
      "siteground.com FP\n",
      "\n",
      "Got: https://images.ctfassets.net/00i767ygo3tc/3nin3tyngzyx5yylb5hl8z/110981e92c9d86eae0a773356e6333e9/small-business-owner-using-a-free-video-maker-to-capture-attention-and-engage-audiences.webp?w=460&h=430&q=80\n",
      "Cor: https://animoto.com/icons/icon-512x512.png?v=f7bad0df2a4af8688773dca5ee0b1ed6\n",
      "animoto.com FP\n",
      "\n",
      "Got: data:image/png;base64,ivborw0kggoaaaansuheugaaadqaaaa0camaaadypuvzaaaanlbmveuaaaaxmtewmdaxmtexmtewmdawmdawmdaxmtexmtexmtewmdawmdaxmtexmtewmdawmdaxmthb9n+uaaaaexrstlma3zdvfybaejc/n3bqz69gx7vmkcmaaagysurbvejhnzzbfomgdeqjidzvuv/ntgbtfguq4/zukpemiqbuhxske5l1xsn4pfwhrm/wsht1hrlwc01lgxfevkcc30eyklj1sjk9pvkw690vy6k8dwp9om9ymg0koi+mi8xa36nxmw0uxra4ej3iwhfrfxvlgl0nqqgbhdqfeqhmmyj48wdukp81h3+smperkkjcsxiluk4xthcjesonz1vuxqoc6lgi2x4ci5atq201mt8whysi5fc05m5c81uzethcmkhxz7iyety1gfhlvgkpm+eykdgxm1f5axmcb93dooribxfdn7f+hlfuyxtdp+sxtbnf43ciywazawrgzxioixemesoplmhwlrdxek772cazxedbrv7cmnovbp0oslygidezjtfq5hhcsa5388osgm6b5p+qjpzrblms9xj4awxmz108uku1iomm3ceiw0cdwhcqp1njaqxlfrbga+xuloqj+tuyfbibpnpqnmxqt7dpaonzqbfhsbctejaxwj58zlk2xgg+spgym6dro6wczsnixxweexrao+uycuhbop7cgq+kxsufntlqfc+po29vvy7jj4y0yaaaaabjru5erkjggg==\n",
      "Cor: https://tinyurl.com/favicon.ico\n",
      "tinyurl.com FP\n",
      "\n",
      "Got: https://vanilla.higherlogic.com/wp-content/uploads/2023/10/6sense-logo.svg\n",
      "Cor: 1https://vanilla.higherlogic.com/wp-content/uploads/2023/08/higherlogic_logo_stacked.png\n",
      "vanillaforums.com FP\n",
      "\n",
      "Got: https://starhub.com/content/dam/starhub/2023/personal/gamehub/mobileplay/tile-mobile-play-v2.jpg\n",
      "Cor: https://starhub.com/etc/designs/starhub/clientlibs/revamp/img/sh-logo.svg\n",
      "starhub.com FP\n",
      "\n",
      "Got: https://publicsite-wordpress-storage-public.insiderintelligence.com/uploads/2021/07/21201108/testimonial_stats.svg\n",
      "Cor: https://emarketer.com/icons/icon-512x512.png?v=40814d1bf88a50c16def08ad125c668f\n",
      "emarketer.com FP\n",
      "\n",
      "Got: https://assets-global.website-files.com/5c6f0fe189c3683ca571d70a/64cac03b2bf6eb876088d4ff_product%20feed%20optimization%20platform.png\n",
      "Cor: https://assets-global.website-files.com/5c6f0fe189c3683ca571d70a/649c8ea5eaca8afd1cfdccfc_godatafeed-logo-dark.svg\n",
      "godatafeed.com FP\n",
      "\n",
      "Got: https://payloadz.com/images/logo02.png\n",
      "Cor: https://payloadz.com/resources/images/logo_payloadz.png\n",
      "payloadz.com FP\n",
      "\n",
      "Got: https://telekom.com/resource/image/1054578/landscape_ratio16x9/768/432/8d33f0957ea63206621dd2b009f4c49/54f07b0ca05c032b1c02dfc89860255f/bi-231201-euro-2024-01.jpg\n",
      "Cor: https://telekom.com/resource/crblob/1021450/93333a9e7b5155e1f2a46d92d11394f1/favicon-svg-data.svg\n",
      "telekom.com FP\n",
      "\n",
      "Got: https://dcdh7ea8gkhvt.cloudfront.net/wp-content/uploads/2022/02/ic-flag-india1x.svg\n",
      "Cor: https://dcdh7ea8gkhvt.cloudfront.net/wp-content/themes/indianic/assets/images/app-icon.png\n",
      "indianic.com FP\n",
      "\n",
      "Got: data:image/svg+xml,<svg width=\"500\" height=\"556\" xmlns=\"http://www.w3.org/2000/svg\"/>\n",
      "Cor: https://izea.com/assets/appicons/icon-192x192-82050cd1a1efa6ce001d49107b3ecd4c01e43a1fab2f35f43d0a86e345fca902.png\n",
      "izea.com FP\n",
      "\n",
      "Got: https://images.mxtoolbox.com/public/images/toolicons/mx.png\n",
      "Cor: https://mxtoolbox.com/public/favicon/mx-logo-icon.svg\n",
      "mxtoolbox.com FP\n",
      "\n",
      "Got: data:image/png;base64,ivborw0kggoaaaansuheugaaadqaaaa0camaaadypuvzaaaanlbmveuaaaaxmtewmdaxmtexmtewmdawmdawmdaxmtexmtexmtewmdawmdaxmtexmtewmdawmdaxmthb9n+uaaaaexrstlma3zdvfybaejc/n3bqz69gx7vmkcmaaagysurbvejhnzzbfomgdeqjidzvuv/ntgbtfguq4/zukpemiqbuhxske5l1xsn4pfwhrm/wsht1hrlwc01lgxfevkcc30eyklj1sjk9pvkw690vy6k8dwp9om9ymg0koi+mi8xa36nxmw0uxra4ej3iwhfrfxvlgl0nqqgbhdqfeqhmmyj48wdukp81h3+smperkkjcsxiluk4xthcjesonz1vuxqoc6lgi2x4ci5atq201mt8whysi5fc05m5c81uzethcmkhxz7iyety1gfhlvgkpm+eykdgxm1f5axmcb93dooribxfdn7f+hlfuyxtdp+sxtbnf43ciywazawrgzxioixemesoplmhwlrdxek772cazxedbrv7cmnovbp0oslygidezjtfq5hhcsa5388osgm6b5p+qjpzrblms9xj4awxmz108uku1iomm3ceiw0cdwhcqp1njaqxlfrbga+xuloqj+tuyfbibpnpqnmxqt7dpaonzqbfhsbctejaxwj58zlk2xgg+spgym6dro6wczsnixxweexrao+uycuhbop7cgq+kxsufntlqfc+po29vvy7jj4y0yaaaaabjru5erkjggg==\n",
      "Cor: nan\n",
      "voipsupply.com FP\n",
      "\n",
      "Got: https://360cities.net/images/home-page-01/map-static.jpg\n",
      "Cor: nan\n",
      "360cities.net FP\n",
      "\n",
      "Got: https://www.sangoma.com/wp-content/uploads/gartner-mq-logo.svg\n",
      "Cor: https://www.sangoma.com/wp-content/uploads/sangoma-fav-icon-32x32-1.svg\n",
      "digium.com FP\n",
      "\n",
      "Got: https://www.adthena.com/wp-content/uploads/2022/06/logo-groupm.svg\n",
      "Cor: https://www.adthena.com/wp-content/uploads/2020/09/cropped-adthena-logo-mark-300x300.png\n",
      "adgooroo.com FP\n",
      "\n",
      "Got: https://cdn.cookielaw.org/logos/static/powered_by_logo.svg\n",
      "Cor: nan\n",
      "3dcart.com FP\n",
      "\n"
     ]
    }
   ],
   "source": [
    "for result, url, domain in FN:\n",
    "    print(\"Got:\", result)\n",
    "    print(\"Cor:\", url)\n",
    "    print(domain, \"FN\")\n",
    "    print()\n",
    "for result, url, domain in FP:\n",
    "    print(\"Got:\", result)\n",
    "    print(\"Cor:\", url)\n",
    "    print(domain, \"FP\")\n",
    "    print()\n"
   ]
  }
 ],
 "metadata": {
  "kernelspec": {
   "display_name": "tensorflow",
   "language": "python",
   "name": "python3"
  },
  "language_info": {
   "codemirror_mode": {
    "name": "ipython",
    "version": 3
   },
   "file_extension": ".py",
   "mimetype": "text/x-python",
   "name": "python",
   "nbconvert_exporter": "python",
   "pygments_lexer": "ipython3",
   "version": "3.11.5"
  }
 },
 "nbformat": 4,
 "nbformat_minor": 2
}
