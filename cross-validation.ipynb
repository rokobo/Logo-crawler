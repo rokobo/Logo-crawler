{
 "cells": [
  {
   "cell_type": "code",
   "execution_count": 1,
   "metadata": {},
   "outputs": [],
   "source": [
    "from multiprocessing import Pool, cpu_count\n",
    "import pandas as pd\n",
    "from main import process_url\n"
   ]
  },
  {
   "cell_type": "code",
   "execution_count": 2,
   "metadata": {},
   "outputs": [],
   "source": [
    "cross = \"cross-validation.csv\"\n",
    "df = pd.read_csv(cross)\n",
    "domains = df.loc[:, 'site'].to_list()\n",
    "urls = df.loc[:, 'url'].to_list()\n"
   ]
  },
  {
   "cell_type": "code",
   "execution_count": 3,
   "metadata": {},
   "outputs": [],
   "source": [
    "with Pool(processes=cpu_count() - 1) as pool:\n",
    "    results = pool.map(process_url, domains)\n"
   ]
  },
  {
   "cell_type": "code",
   "execution_count": 4,
   "metadata": {},
   "outputs": [],
   "source": [
    "cMatrix = {'TP': 0, 'FP': 0, 'TN': 0, 'FN': 0}\n",
    "FN = []\n",
    "FP = []\n",
    "for result, url, domain in zip(results, urls, domains):\n",
    "    if result is not None:\n",
    "        if result == url:\n",
    "            cMatrix[\"TP\"] += 1\n",
    "        else:\n",
    "            cMatrix[\"FP\"] += 1\n",
    "            FP.append((result, url, domain))\n",
    "    else:\n",
    "        if pd.isna(url):\n",
    "            cMatrix[\"TN\"] += 1\n",
    "        else:\n",
    "            cMatrix[\"FN\"] += 1\n",
    "            FN.append((result, url, domain))\n"
   ]
  },
  {
   "cell_type": "code",
   "execution_count": 6,
   "metadata": {},
   "outputs": [
    {
     "name": "stdout",
     "output_type": "stream",
     "text": [
      "Confusion matrix: {'TP': 52, 'FP': 19, 'TN': 6, 'FN': 3} \n",
      "\n",
      "Precision=0.73\n",
      "Recall=0.95\n",
      "F1=0.83\n",
      "Accuracy=0.72\n",
      "Specificity=0.24\n",
      "NPV=0.67\n",
      "Balanced_accuracy=0.59\n"
     ]
    }
   ],
   "source": [
    "Precision = cMatrix['TP'] / (cMatrix['TP'] + cMatrix['FP'])\n",
    "Recall = cMatrix['TP'] / (cMatrix['TP'] + cMatrix['FN'])\n",
    "F1 = 2 * ((Precision * Recall) / (Precision + Recall))\n",
    "Accuracy = (cMatrix['TP'] + cMatrix['TN']) / (\n",
    "    cMatrix['TP'] + cMatrix['FP'] + cMatrix['TN'] + cMatrix['FN'])\n",
    "Specificity = cMatrix['TN'] / (cMatrix['TN'] + cMatrix['FP'])\n",
    "NPV = cMatrix['TN'] / (cMatrix['TN'] + cMatrix['FN'])\n",
    "Balanced_accuracy = (Recall + Specificity) / 2\n",
    "print(\"Confusion matrix:\", cMatrix, \"\\n\")\n",
    "print(f\"{Precision=:.2f}\")\n",
    "print(f\"{Recall=:.2f}\")\n",
    "print(f\"{F1=:.2f}\")\n",
    "print(f\"{Accuracy=:.2f}\")\n",
    "if cMatrix['TN'] != 0:\n",
    "    print(f\"{Specificity=:.2f}\")\n",
    "    print(f\"{NPV=:.2f}\")\n",
    "    print(f\"{Balanced_accuracy=:.2f}\")\n"
   ]
  },
  {
   "cell_type": "code",
   "execution_count": 5,
   "metadata": {},
   "outputs": [
    {
     "name": "stdout",
     "output_type": "stream",
     "text": [
      "Got: None\n",
      "Cor: https://siteground.com/img/apple-touch-icon.png\n",
      "siteground.com FN\n",
      "\n",
      "Got: None\n",
      "Cor: https://cdn.cookielaw.org/logos/17e5cb00-ad90-47f5-a58d-77597d9d2c16/d44e374b-e570-4884-9441-33c0ccae5431/959d0f3c-d044-46db-bc43-cbca0284a92d/NBCU_logo.png\n",
      "ivillage.com FN\n",
      "\n",
      "Got: None\n",
      "Cor: https://onstar.com/content/dam/onstar/na/us/en/navigation/01-images/os-header-logo-shared.svg\n",
      "onstar.com FN\n",
      "\n",
      "Got: https://images.ctfassets.net/00i767ygo3tc/3NIN3TyNgzYx5YYlb5Hl8z/110981e92c9d86eae0a773356e6333e9/small-business-owner-using-a-free-video-maker-to-capture-attention-and-engage-audiences.webp?w=460&h=430&q=80\n",
      "Cor: https://animoto.com/icons/icon-512x512.png?v=f7bad0df2a4af8688773dca5ee0b1ed6\n",
      "animoto.com FP\n",
      "\n",
      "Got: data:image/svg+xml,%3Csvg%20xmlns=%22http://www.w3.org/2000/svg%22%20viewBox=%220%200%20210%20140%22%3E%3C/svg%3E\n",
      "Cor: https://enterprise.efax.com/wp-content/themes/enterprise-efax-child/_ui/img/logo-efax-corp-white.png\n",
      "efaxcorporate.com FP\n",
      "\n",
      "Got: https://vanilla.futurecdn.net/cyclingnews/media/img/missing-image.svg\n",
      "Cor: https://vanilla.futurecdn.net/toptenreviews/media/img/missing-image.svg\n",
      "toptenreviews.com FP\n",
      "\n",
      "Got: https://toucharcade.com/styles/default/xenforo/logo.og.png\n",
      "Cor: https://toucharcade.com/apple-touch-icon-180x180.png\n",
      "toucharcade.com FP\n",
      "\n",
      "Got: https://vanilla.higherlogic.com/wp-content/uploads/2023/10/6sense-logo.svg\n",
      "Cor: 1https://vanilla.higherlogic.com/wp-content/uploads/2023/08/HigherLogic_logo_stacked.png\n",
      "vanillaforums.com FP\n",
      "\n",
      "Got: https://starhub.com/content/dam/starhub/2023/personal/gamehub/mobileplay/tile-mobile-play-v2.jpg\n",
      "Cor: https://starhub.com/etc/designs/starhub/clientlibs/revamp/img/sh-logo.svg\n",
      "starhub.com FP\n",
      "\n",
      "Got: https://publicsite-wordpress-storage-public.insiderintelligence.com/uploads/2021/07/21201108/Testimonial_Stats.svg\n",
      "Cor: https://emarketer.com/icons/icon-512x512.png?v=40814d1bf88a50c16def08ad125c668f\n",
      "emarketer.com FP\n",
      "\n",
      "Got: https://xo.com/business/content/dam/xo/xo-support-image.jpg\n",
      "Cor: data:image/svg+xml;utf8,<svg xmlns='http://www.w3.org/2000/svg' width='144' height='144' viewBox='0 0 144 144'><circle cx='72' cy='72' r='72' fill='%23000'/><path d='M37 72.46H50.26L63.51 100.82L96.65 30H110L70.14 115H56.89L37 72.46Z' fill='%23E00'/></svg>\n",
      "xo.com FP\n",
      "\n",
      "Got: https://conteudo.imguol.com.br/c/home/layout/vueland/icons/brand/uol.svg?v7\n",
      "Cor: https://conteudo.imguol.com.br/c/home/layout/vueland/icons/brand/uol-logo-full.svg?v7\n",
      "uol.com.br FP\n",
      "\n",
      "Got: https://rs.trumpia.com/images/main/svg_features_list01.png\n",
      "Cor: https://rs.trumpia.com/images/common/main_logo.svg\n",
      "trumpia.com FP\n",
      "\n",
      "Got: https://telekom.com/resource/image/1054578/landscape_ratio16x9/768/432/8d33f0957ea63206621dd2b009f4c49/54F07B0CA05C032B1C02DFC89860255F/bi-231201-euro-2024-01.jpg\n",
      "Cor: https://telekom.com/resource/crblob/1021450/93333a9e7b5155e1f2a46d92d11394f1/favicon-svg-data.svg\n",
      "telekom.com FP\n",
      "\n",
      "Got: https://assets3.thrillist.com/v1/image/3168869/300x300/flatten;crop;webp=auto;jpeg_quality=60.jpg\n",
      "Cor: https://cdn.cookielaw.org/logos/static/ot_company_logo.png\n",
      "thrillist.com FP\n",
      "\n",
      "Got: https://mp-cache-assets-production.izea.com/ix/images/cta-ai/AI_1_noxra.jpg_ab54ea6c2b121fb961737bd9da0f9e08.avif\n",
      "Cor: https://izea.com/assets/appicons/icon-192x192-82050cd1a1efa6ce001d49107b3ecd4c01e43a1fab2f35f43d0a86e345fca902.png\n",
      "izea.com FP\n",
      "\n",
      "Got: https://entireweb.com/images/entireweb-education.webp\n",
      "Cor: nan\n",
      "entireweb.com FP\n",
      "\n",
      "Got: https://images.mxtoolbox.com/public/images/toolicons/mx.png\n",
      "Cor: https://mxtoolbox.com/public/favicon/mx-logo-icon.svg\n",
      "mxtoolbox.com FP\n",
      "\n",
      "Got: https://cyberchimps.com/wp-content/uploads/2023/08/Cyberchimps-Responsive-theme-customizer-settings.webp\n",
      "Cor: https://cyberchimps.com/wp-content/uploads/2019/08/Cyberchimps-Logo.webp\n",
      "cyberchimps.com FP\n",
      "\n",
      "Got: https://360cities.net/images/home-page-01/map-static.jpg\n",
      "Cor: nan\n",
      "360cities.net FP\n",
      "\n",
      "Got: https://www.sangoma.com/wp-content/uploads/gartner-mq-logo.svg\n",
      "Cor: https://www.sangoma.com/wp-content/uploads/sangoma-fav-icon-32x32-1.svg\n",
      "digium.com FP\n",
      "\n",
      "Got: https://www.adthena.com/wp-content/uploads/2021/01/Adthena_Adgooroo_Title_NoPlay-900x506.jpg\n",
      "Cor: https://www.adthena.com/wp-content/uploads/2020/09/cropped-adthena-logo-mark-300x300.png\n",
      "adgooroo.com FP\n",
      "\n"
     ]
    }
   ],
   "source": [
    "for result, url, domain in FN:\n",
    "    print(\"Got:\", result)\n",
    "    print(\"Cor:\", url)\n",
    "    print(domain, \"FN\")\n",
    "    print()\n",
    "for result, url, domain in FP:\n",
    "    print(\"Got:\", result)\n",
    "    print(\"Cor:\", url)\n",
    "    print(domain, \"FP\")\n",
    "    print()\n"
   ]
  }
 ],
 "metadata": {
  "kernelspec": {
   "display_name": "tensorflow",
   "language": "python",
   "name": "python3"
  },
  "language_info": {
   "codemirror_mode": {
    "name": "ipython",
    "version": 3
   },
   "file_extension": ".py",
   "mimetype": "text/x-python",
   "name": "python",
   "nbconvert_exporter": "python",
   "pygments_lexer": "ipython3",
   "version": "3.11.5"
  }
 },
 "nbformat": 4,
 "nbformat_minor": 2
}
