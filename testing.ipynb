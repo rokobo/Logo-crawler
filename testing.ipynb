{
 "cells": [
  {
   "cell_type": "code",
   "execution_count": 1,
   "metadata": {},
   "outputs": [],
   "source": [
    "import pandas as pd\n",
    "from IPython.display import IFrame\n",
    "from main import Crawler\n"
   ]
  },
  {
   "cell_type": "code",
   "execution_count": 4,
   "metadata": {},
   "outputs": [
    {
     "data": {
      "text/plain": [
       "(1000, 1)"
      ]
     },
     "execution_count": 4,
     "metadata": {},
     "output_type": "execute_result"
    }
   ],
   "source": [
    "data = pd.read_csv(\"websites.csv\", header=None)\n",
    "data.columns = [\"url\"]\n",
    "data.shape\n"
   ]
  },
  {
   "cell_type": "code",
   "execution_count": 5,
   "metadata": {},
   "outputs": [
    {
     "name": "stdout",
     "output_type": "stream",
     "text": [
      "Site url: https://siteground.com\n",
      "Logo url: https://d3fjrnfgbgznt3.cloudfront.net/img/svg/blocks/services/premium_google_cloud.svg\n",
      "   Title: web hosting services crafted with care - siteground\n",
      "crawler.times={'connect': 2.456, 'tags': 0.003, 'process': 0.003}\n"
     ]
    },
    {
     "data": {
      "text/html": [
       "<div>\n",
       "<style scoped>\n",
       "    .dataframe tbody tr th:only-of-type {\n",
       "        vertical-align: middle;\n",
       "    }\n",
       "\n",
       "    .dataframe tbody tr th {\n",
       "        vertical-align: top;\n",
       "    }\n",
       "\n",
       "    .dataframe thead th {\n",
       "        text-align: right;\n",
       "    }\n",
       "</style>\n",
       "<table border=\"1\" class=\"dataframe\">\n",
       "  <thead>\n",
       "    <tr style=\"text-align: right;\">\n",
       "      <th></th>\n",
       "      <th>website</th>\n",
       "      <th>ref</th>\n",
       "      <th>url</th>\n",
       "      <th>source</th>\n",
       "      <th>score</th>\n",
       "      <th>score2</th>\n",
       "    </tr>\n",
       "  </thead>\n",
       "  <tbody>\n",
       "    <tr>\n",
       "      <th>0</th>\n",
       "      <td>siteground.com</td>\n",
       "      <td>premium google cloud</td>\n",
       "      <td>https://d3fjrnfgbgznt3.cloudfront.net/img/svg/...</td>\n",
       "      <td>&lt;img&gt;</td>\n",
       "      <td>20</td>\n",
       "      <td>144</td>\n",
       "    </tr>\n",
       "    <tr>\n",
       "      <th>1</th>\n",
       "      <td>siteground.com</td>\n",
       "      <td>ultrafast server setup</td>\n",
       "      <td>https://damt7w3yoa0t2.cloudfront.net/img/svg/b...</td>\n",
       "      <td>&lt;img&gt;</td>\n",
       "      <td>20</td>\n",
       "      <td>144</td>\n",
       "    </tr>\n",
       "    <tr>\n",
       "      <th>2</th>\n",
       "      <td>siteground.com</td>\n",
       "      <td>top wordpress speed</td>\n",
       "      <td>https://du3vkre908mr5.cloudfront.net/img/svg/b...</td>\n",
       "      <td>&lt;img&gt;</td>\n",
       "      <td>20</td>\n",
       "      <td>144</td>\n",
       "    </tr>\n",
       "    <tr>\n",
       "      <th>3</th>\n",
       "      <td>siteground.com</td>\n",
       "      <td>latest technologies integrated</td>\n",
       "      <td>https://d3fjrnfgbgznt3.cloudfront.net/img/svg/...</td>\n",
       "      <td>&lt;img&gt;</td>\n",
       "      <td>20</td>\n",
       "      <td>144</td>\n",
       "    </tr>\n",
       "    <tr>\n",
       "      <th>4</th>\n",
       "      <td>siteground.com</td>\n",
       "      <td>wordpress start made easy</td>\n",
       "      <td>https://du3vkre908mr5.cloudfront.net/img/svg/b...</td>\n",
       "      <td>&lt;img&gt;</td>\n",
       "      <td>20</td>\n",
       "      <td>2</td>\n",
       "    </tr>\n",
       "    <tr>\n",
       "      <th>5</th>\n",
       "      <td>siteground.com</td>\n",
       "      <td>put your site’s safety first</td>\n",
       "      <td>https://damt7w3yoa0t2.cloudfront.net/img/svg/b...</td>\n",
       "      <td>&lt;img&gt;</td>\n",
       "      <td>20</td>\n",
       "      <td>1</td>\n",
       "    </tr>\n",
       "    <tr>\n",
       "      <th>6</th>\n",
       "      <td>siteground.com</td>\n",
       "      <td>maua gang</td>\n",
       "      <td>https://damt7w3yoa0t2.cloudfront.net/img/block...</td>\n",
       "      <td>&lt;img&gt;</td>\n",
       "      <td>0</td>\n",
       "      <td>144</td>\n",
       "    </tr>\n",
       "    <tr>\n",
       "      <th>7</th>\n",
       "      <td>siteground.com</td>\n",
       "      <td>sebastien bicard</td>\n",
       "      <td>https://du3vkre908mr5.cloudfront.net/img/block...</td>\n",
       "      <td>&lt;img&gt;</td>\n",
       "      <td>0</td>\n",
       "      <td>144</td>\n",
       "    </tr>\n",
       "    <tr>\n",
       "      <th>8</th>\n",
       "      <td>siteground.com</td>\n",
       "      <td>the greats</td>\n",
       "      <td>https://du3vkre908mr5.cloudfront.net/img/block...</td>\n",
       "      <td>&lt;img&gt;</td>\n",
       "      <td>0</td>\n",
       "      <td>144</td>\n",
       "    </tr>\n",
       "    <tr>\n",
       "      <th>9</th>\n",
       "      <td>siteground.com</td>\n",
       "      <td>nia davies</td>\n",
       "      <td>https://d3fjrnfgbgznt3.cloudfront.net/img/bloc...</td>\n",
       "      <td>&lt;img&gt;</td>\n",
       "      <td>0</td>\n",
       "      <td>144</td>\n",
       "    </tr>\n",
       "    <tr>\n",
       "      <th>10</th>\n",
       "      <td>siteground.com</td>\n",
       "      <td>greener host</td>\n",
       "      <td>https://du3vkre908mr5.cloudfront.net/img/png/h...</td>\n",
       "      <td>&lt;img&gt;</td>\n",
       "      <td>0</td>\n",
       "      <td>1</td>\n",
       "    </tr>\n",
       "    <tr>\n",
       "      <th>11</th>\n",
       "      <td>siteground.com</td>\n",
       "      <td>a</td>\n",
       "      <td>https://siteground.com/img/apple-touch-icon.png</td>\n",
       "      <td>&lt;link&gt;</td>\n",
       "      <td>-35</td>\n",
       "      <td>1</td>\n",
       "    </tr>\n",
       "    <tr>\n",
       "      <th>12</th>\n",
       "      <td>siteground.com</td>\n",
       "      <td>s</td>\n",
       "      <td>https://siteground.com/img/favicon.ico</td>\n",
       "      <td>&lt;link&gt;</td>\n",
       "      <td>-135</td>\n",
       "      <td>1</td>\n",
       "    </tr>\n",
       "  </tbody>\n",
       "</table>\n",
       "</div>"
      ],
      "text/plain": [
       "           website                             ref  \\\n",
       "0   siteground.com            premium google cloud   \n",
       "1   siteground.com          ultrafast server setup   \n",
       "2   siteground.com             top wordpress speed   \n",
       "3   siteground.com  latest technologies integrated   \n",
       "4   siteground.com       wordpress start made easy   \n",
       "5   siteground.com    put your site’s safety first   \n",
       "6   siteground.com                       maua gang   \n",
       "7   siteground.com                sebastien bicard   \n",
       "8   siteground.com                      the greats   \n",
       "9   siteground.com                      nia davies   \n",
       "10  siteground.com                    greener host   \n",
       "11  siteground.com                               a   \n",
       "12  siteground.com                               s   \n",
       "\n",
       "                                                  url  source  score  score2  \n",
       "0   https://d3fjrnfgbgznt3.cloudfront.net/img/svg/...   <img>     20     144  \n",
       "1   https://damt7w3yoa0t2.cloudfront.net/img/svg/b...   <img>     20     144  \n",
       "2   https://du3vkre908mr5.cloudfront.net/img/svg/b...   <img>     20     144  \n",
       "3   https://d3fjrnfgbgznt3.cloudfront.net/img/svg/...   <img>     20     144  \n",
       "4   https://du3vkre908mr5.cloudfront.net/img/svg/b...   <img>     20       2  \n",
       "5   https://damt7w3yoa0t2.cloudfront.net/img/svg/b...   <img>     20       1  \n",
       "6   https://damt7w3yoa0t2.cloudfront.net/img/block...   <img>      0     144  \n",
       "7   https://du3vkre908mr5.cloudfront.net/img/block...   <img>      0     144  \n",
       "8   https://du3vkre908mr5.cloudfront.net/img/block...   <img>      0     144  \n",
       "9   https://d3fjrnfgbgznt3.cloudfront.net/img/bloc...   <img>      0     144  \n",
       "10  https://du3vkre908mr5.cloudfront.net/img/png/h...   <img>      0       1  \n",
       "11    https://siteground.com/img/apple-touch-icon.png  <link>    -35       1  \n",
       "12             https://siteground.com/img/favicon.ico  <link>   -135       1  "
      ]
     },
     "execution_count": 5,
     "metadata": {},
     "output_type": "execute_result"
    }
   ],
   "source": [
    "import random\n",
    "\n",
    "crawler = Crawler(True)\n",
    "site = data.loc[random.randint(0, 1000), \"url\"]\n",
    "site = \"siteground.com\"\n",
    "print(f\"Site url: https://{site}\")\n",
    "result = crawler.crawl(site)\n",
    "if result is not None and (not result.empty):\n",
    "    logo_url = result.iloc[0,2]\n",
    "    print(\"Logo url:\", logo_url)\n",
    "else:\n",
    "    logo_url = None\n",
    "print(\"   Title:\", crawler.title)\n",
    "print(f\"{crawler.times=}\")\n",
    "result\n"
   ]
  },
  {
   "cell_type": "code",
   "execution_count": 5,
   "metadata": {},
   "outputs": [
    {
     "name": "stdout",
     "output_type": "stream",
     "text": [
      "added https://signupgenius.com sucessfully\n"
     ]
    }
   ],
   "source": [
    "cross = \"cross-validation.csv\"\n",
    "df = pd.read_csv(cross)\n",
    "if result is None:\n",
    "    chosen = None\n",
    "elif not result.empty:\n",
    "    chosen = result.iloc[0, 2]\n",
    "else:\n",
    "    chosen = None\n",
    "if site in df[\"site\"].to_list():\n",
    "    print(f\"site https://{site} already in csv\")\n",
    "else:\n",
    "    df = pd.concat([df, pd.DataFrame({'site': [site], \"url\": [chosen]})])\n",
    "    df = df.drop_duplicates(subset=[\"site\"])\n",
    "    df.to_csv(cross, index=False)\n",
    "    print(f\"added https://{site} sucessfully\")\n"
   ]
  },
  {
   "cell_type": "code",
   "execution_count": 22,
   "metadata": {},
   "outputs": [
    {
     "name": "stdout",
     "output_type": "stream",
     "text": [
      "https://wikipedia.comportal/wikipedia.org/assets/img/wikipedia-logo-v2.png\n"
     ]
    },
    {
     "data": {
      "text/html": [
       "\n",
       "        <iframe\n",
       "            width=\"800\"\n",
       "            height=\"400\"\n",
       "            src=\"https://wikipedia.comportal/wikipedia.org/assets/img/wikipedia-logo-v2.png\"\n",
       "            frameborder=\"0\"\n",
       "            allowfullscreen\n",
       "            \n",
       "        ></iframe>\n",
       "        "
      ],
      "text/plain": [
       "<IPython.lib.display.IFrame at 0x7f6ee15c4b90>"
      ]
     },
     "execution_count": 22,
     "metadata": {},
     "output_type": "execute_result"
    }
   ],
   "source": [
    "test_logo = result.iloc[0, 2]\n",
    "print(test_logo)\n",
    "IFrame(test_logo, 800, 400)\n"
   ]
  }
 ],
 "metadata": {
  "kernelspec": {
   "display_name": "Python 3",
   "language": "python",
   "name": "python3"
  },
  "language_info": {
   "codemirror_mode": {
    "name": "ipython",
    "version": 3
   },
   "file_extension": ".py",
   "mimetype": "text/x-python",
   "name": "python",
   "nbconvert_exporter": "python",
   "pygments_lexer": "ipython3",
   "version": "3.11.5"
  }
 },
 "nbformat": 4,
 "nbformat_minor": 2
}
